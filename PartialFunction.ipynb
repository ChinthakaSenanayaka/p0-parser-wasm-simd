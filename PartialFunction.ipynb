{
 "cells": [
  {
   "cell_type": "code",
   "execution_count": 5,
   "metadata": {},
   "outputs": [],
   "source": [
    "from wasmer import engine, Store, Module, Instance, ImportObject, Function\n",
    "from wasmer_compiler_cranelift import Compiler\n",
    "\n",
    "def runwasmer(wasmfile):\n",
    "    def write(i: int): print(i, end=' ')\n",
    "    def writeln(): print()\n",
    "    def read() -> int: return int(input()) \n",
    "    store = Store(engine.JIT(Compiler))\n",
    "    module = Module(store, open(wasmfile, 'rb').read())\n",
    "    import_object = ImportObject()\n",
    "    import_object.register(\"P0lib\", {\"write\": Function(store, write),\n",
    "                                     \"writeln\": Function(store, writeln),\"read\": Function(store, read)})\n",
    "    instance = Instance(module, import_object)\n",
    "\n",
    "import nbimporter; nbimporter.options[\"only_defs\"] = False\n",
    "from P0 import compileString\n",
    "\n",
    "compileString(\"\"\"\n",
    "type A = [1.. 7] → integer\n",
    "var x: A\n",
    "var y: A\n",
    "var i: integer\n",
    "var h: integer\n",
    "program p\n",
    "    i := 3\n",
    "    h := y[i]\n",
    "    x[i] := 5\n",
    "\"\"\", \"partialArray.wat\", target = 'wat')\n",
    "\n",
    "#compileString(\"\"\"\n",
    "#type A = [1↦4,3↦7] → integer\n",
    "#var x: A\n",
    "#var y: A\n",
    "#var i: integer\n",
    "#var h: integer\n",
    "#program p\n",
    "#  var i: integer\n",
    "#  var z: A\n",
    "#  write(z[1])\n",
    "#  x[2] := z[1]\n",
    "#  write(x[2])\n",
    "#\"\"\", \"partialArray.wat\", target = 'wat')\n",
    "\n",
    "#compileString(\"\"\"\n",
    "#type A = [1↦4,3↦7] → integer\n",
    "#var x: A\n",
    "#var y: A\n",
    "#var i: integer\n",
    "#var h: integer\n",
    "#program p\n",
    "#  var i: integer\n",
    "#  var z: A\n",
    "#  for a in x do\n",
    "#    write(a)\n",
    "#\"\"\", \"partialArray.wat\", target = 'wat')"
   ]
  },
  {
   "cell_type": "code",
   "execution_count": 6,
   "metadata": {},
   "outputs": [],
   "source": [
    "!wat2wasm partialArray.wat"
   ]
  },
  {
   "cell_type": "code",
   "execution_count": 7,
   "metadata": {},
   "outputs": [
    {
     "name": "stdout",
     "output_type": "stream",
     "text": [
      "(module\n",
      "(import \"P0lib\" \"write\" (func $write (param i32)))\n",
      "(import \"P0lib\" \"writeln\" (func $writeln))\n",
      "(import \"P0lib\" \"read\" (func $read (result i32)))\n",
      "(global $i (mut i32) i32.const 0)\n",
      "(global $h (mut i32) i32.const 0)\n",
      "(global $_memsize (mut i32) i32.const 56)\n",
      "(func $program\n",
      "(local $0 i32)\n",
      "i32.const 3\n",
      "global.set $i\n",
      "global.get $i\n",
      "i32.const 1\n",
      "i32.sub\n",
      "i32.const 4\n",
      "i32.mul\n",
      "i32.const 28\n",
      "i32.add\n",
      "i32.load\n",
      "global.set $h\n",
      "global.get $i\n",
      "i32.const 1\n",
      "i32.sub\n",
      "i32.const 4\n",
      "i32.mul\n",
      "i32.const 0\n",
      "i32.add\n",
      "i32.const 5\n",
      "i32.store\n",
      ")\n",
      "(memory 1)\n",
      "(start $program)\n",
      ")"
     ]
    }
   ],
   "source": [
    "cat partialArray.wat"
   ]
  },
  {
   "cell_type": "code",
   "execution_count": 8,
   "metadata": {},
   "outputs": [],
   "source": [
    "runwasmer(\"partialArray.wasm\")"
   ]
  }
 ],
 "metadata": {
  "kernelspec": {
   "display_name": "Python 3 (ipykernel)",
   "language": "python",
   "name": "python3"
  },
  "language_info": {
   "codemirror_mode": {
    "name": "ipython",
    "version": 3
   },
   "file_extension": ".py",
   "mimetype": "text/x-python",
   "name": "python",
   "nbconvert_exporter": "python",
   "pygments_lexer": "ipython3",
   "version": "3.11.1"
  },
  "toc": {
   "base_numbering": 1,
   "nav_menu": {},
   "number_sections": false,
   "sideBar": false,
   "skip_h1_title": true,
   "title_cell": "Table of Contents",
   "title_sidebar": "Contents",
   "toc_cell": false,
   "toc_position": {},
   "toc_section_display": true,
   "toc_window_display": false
  }
 },
 "nbformat": 4,
 "nbformat_minor": 4
}
